{
 "cells": [
  {
   "cell_type": "markdown",
   "metadata": {},
   "source": [
    "# Distributed modeling with dynamic schedule\n",
    "We demonstrate dynamic scheduling using 2 workers to model 8 shots across Marmousi."
   ]
  },
  {
   "cell_type": "code",
   "execution_count": null,
   "metadata": {},
   "outputs": [],
   "source": [
    "using Distributed"
   ]
  },
  {
   "cell_type": "code",
   "execution_count": null,
   "metadata": {},
   "outputs": [],
   "source": [
    "addprocs(4)"
   ]
  },
  {
   "cell_type": "code",
   "execution_count": null,
   "metadata": {
    "tags": []
   },
   "outputs": [],
   "source": [
    "@everywhere using DistributedArrays, DistributedJets, Jets, WaveFD, JetPackWaveFD, DistributedOperations, Schedulers, Random"
   ]
  },
  {
   "cell_type": "code",
   "execution_count": null,
   "metadata": {
    "tags": []
   },
   "outputs": [],
   "source": [
    "file = matopen(\"SEAM_vp_100x100.mat\")\n",
    "v = read(file, \"dataM\")\n",
    "close(file)\n",
    "dz,dx = 50,50\n",
    "nz,nx = size(v)\n",
    "@show dz,dx\n",
    "@show nz,nx;\n",
    "v = convert(Array{Float32}, v);"
   ]
  },
  {
   "cell_type": "code",
   "execution_count": null,
   "metadata": {
    "tags": []
   },
   "outputs": [],
   "source": [
    "sx = range(0,length=4,stop=(851-1)*20)\n",
    "nshots = length(sx)\n",
    "@show nshots;"
   ]
  },
  {
   "cell_type": "markdown",
   "metadata": {},
   "source": [
    "## Broadcast the velocity (v) to workers"
   ]
  },
  {
   "cell_type": "code",
   "execution_count": null,
   "metadata": {},
   "outputs": [],
   "source": [
    "_v = bcast(v)"
   ]
  },
  {
   "cell_type": "markdown",
   "metadata": {},
   "source": [
    "## Build a list of keyword arguments to be passed to the modeling operator"
   ]
  },
  {
   "cell_type": "code",
   "execution_count": null,
   "metadata": {},
   "outputs": [],
   "source": [
    "kwargs = (reportinterval = 0, freqQ=5, srcfieldfile=\"\", nsponge = 200)"
   ]
  },
  {
   "cell_type": "markdown",
   "metadata": {},
   "source": [
    "## Note on scratch space for temporary files\n",
    "When dealing with multiple serialized nonlinear wavefields as in this example, we need to specify the location where scratch files will be written.\n",
    "\n",
    "You may need to change this to point to a temporary directory available on your system."
   ]
  },
  {
   "cell_type": "code",
   "execution_count": null,
   "metadata": {},
   "outputs": [],
   "source": [
    "@everywhere scratch = \"scratch\"\n",
    "@assert isdir(scratch)"
   ]
  },
  {
   "cell_type": "markdown",
   "metadata": {},
   "source": [
    "## Define single shot function to be run by the Scheduler\n",
    "Typically modeled data would be written to storage in this function, but we omit that detail here."
   ]
  },
  {
   "cell_type": "code",
   "execution_count": null,
   "metadata": {},
   "outputs": [],
   "source": [
    "@everywhere function modelshot(isrc, sx, _v; kwargs...)\n",
    "    nz,nx,dz,dx = 176,851,20.0,20.0   \n",
    "    @info \"modeling shot $(isrc) on $(gethostname()) with id $(myid())...\"\n",
    "    F = JopNlProp2DAcoIsoDenQ_DEO2_FDTD(;\n",
    "        b = ones(Float32,nz,nx),\n",
    "        nthreads = div(Sys.CPU_THREADS,2),\n",
    "        isinterior = true,\n",
    "        ntrec = 1101,\n",
    "        dtrec = 0.002,\n",
    "        dtmod = 0.001,\n",
    "        dz = dz,\n",
    "        dx = dx,\n",
    "        wavelet = WaveletCausalRicker(f=5.0),\n",
    "        sx = sx[isrc],\n",
    "        sz = dz,\n",
    "        rx = dx*[0:1:nx-1;],\n",
    "        rz = 2*dz*ones(length(0:1:nx-1)),\n",
    "        srcfieldfile = joinpath(scratch, \"field-$isrc.$(randstring()).bin\"),\n",
    "        reportinterval=1000,\n",
    "        kwargs...)\n",
    "    \n",
    "    d = F*_v\n",
    "    @info \"...done modeling shot $(isrc) on $(gethostname()) with id $(myid())\"\n",
    "    @info \"extrema of shot $(isrc) is $(extrema(d))\"\n",
    "\n",
    "    # typically write to cloud storage here\n",
    "    nothing\n",
    "end"
   ]
  },
  {
   "cell_type": "markdown",
   "metadata": {},
   "source": [
    "## Use cvxpmap to dynamically schedule tasks to workers\n",
    "Note that you may see the dynamic nature of the scheduling in that the shot numbers might not necessarily map monotonically to the process identifiers of the workers. "
   ]
  },
  {
   "cell_type": "code",
   "execution_count": null,
   "metadata": {
    "scrolled": true,
    "tags": []
   },
   "outputs": [],
   "source": [
    "epmap(i->modelshot(i, sx, localpart(_v); kwargs...), 1:nshots)"
   ]
  },
  {
   "cell_type": "markdown",
   "metadata": {},
   "source": [
    "## Remove workers"
   ]
  },
  {
   "cell_type": "code",
   "execution_count": null,
   "metadata": {},
   "outputs": [],
   "source": [
    "rmprocs(workers());"
   ]
  },
  {
   "cell_type": "code",
   "execution_count": null,
   "metadata": {},
   "outputs": [],
   "source": []
  }
 ],
 "metadata": {
  "kernelspec": {
   "display_name": "Julia 1.5.0",
   "language": "julia",
   "name": "julia-1.5"
  },
  "language_info": {
   "file_extension": ".jl",
   "mimetype": "application/julia",
   "name": "julia",
   "version": "1.5.0"
  }
 },
 "nbformat": 4,
 "nbformat_minor": 4
}
