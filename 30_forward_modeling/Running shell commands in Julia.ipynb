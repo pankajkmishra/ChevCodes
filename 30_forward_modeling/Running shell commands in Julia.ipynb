{
 "cells": [
  {
   "cell_type": "markdown",
   "metadata": {},
   "source": [
    "# This is a test to run shell command in Julia\n",
    "The idea is that instead of writting a separate shell script for running EM as well as raytracing codes, we can execute them write inside the main Julia script. "
   ]
  },
  {
   "cell_type": "code",
   "execution_count": 10,
   "metadata": {
    "scrolled": false
   },
   "outputs": [
    {
     "ename": "LoadError",
     "evalue": "syntax: extra token \"\"\" after end of expression",
     "output_type": "error",
     "traceback": [
      "syntax: extra token \"\"\" after end of expression",
      "",
      "Stacktrace:",
      " [1] top-level scope at In[10]:2",
      " [2] include_string(::Function, ::Module, ::String, ::String) at ./loading.jl:1091"
     ]
    }
   ],
   "source": [
    "# If you put a semicolumn before the code, it treats it as a shell command.\n",
    "; echo \"This is a shell\" "
   ]
  },
  {
   "cell_type": "code",
   "execution_count": null,
   "metadata": {},
   "outputs": [],
   "source": []
  },
  {
   "cell_type": "code",
   "execution_count": null,
   "metadata": {},
   "outputs": [],
   "source": []
  },
  {
   "cell_type": "code",
   "execution_count": null,
   "metadata": {},
   "outputs": [],
   "source": []
  }
 ],
 "metadata": {
  "kernelspec": {
   "display_name": "Julia 1.5.0",
   "language": "julia",
   "name": "julia-1.5"
  },
  "language_info": {
   "file_extension": ".jl",
   "mimetype": "application/julia",
   "name": "julia",
   "version": "1.5.0"
  }
 },
 "nbformat": 4,
 "nbformat_minor": 4
}
